{
 "cells": [
  {
   "cell_type": "markdown",
   "id": "settled-season",
   "metadata": {},
   "source": [
    "# Robust Analysis of rtgM4"
   ]
  },
  {
   "cell_type": "code",
   "execution_count": 5,
   "id": "enormous-rabbit",
   "metadata": {},
   "outputs": [
    {
     "name": "stderr",
     "output_type": "stream",
     "text": [
      "\u001b[32m\u001b[1m  Activating\u001b[22m\u001b[39m environment at `~/project/MitoRetrogradeModel/MitoChannelAnalysis/RobustAnalysis/Project.toml`\n"
     ]
    }
   ],
   "source": [
    "using Pkg\n",
    "Pkg.activate(\"RobustAnalysis\")"
   ]
  },
  {
   "cell_type": "code",
   "execution_count": 6,
   "id": "reported-richmond",
   "metadata": {},
   "outputs": [],
   "source": [
    "Pkg.instantiate();"
   ]
  },
  {
   "cell_type": "code",
   "execution_count": 57,
   "id": "dimensional-instrumentation",
   "metadata": {},
   "outputs": [],
   "source": [
    "using RetroSignalModel \n",
    "using SteadyStateDiffEq\n",
    "using StochasticDiffEq\n",
    "using DiffEqNoiseProcess\n",
    "using OrdinaryDiffEq\n",
    "using ModelingToolkit\n",
    "using Catalyst\n",
    "using Parameters\n",
    "using ProgressBars\n",
    "using InformationMeasures\n",
    "using KernelDensity\n",
    "using QuadGK\n",
    "using Random\n",
    "using DiffEqCallbacks\n",
    "using CSV\n",
    "using DataFrames\n",
    "using Folds\n",
    "import JLD as j\n",
    "import PyPlot as plt\n",
    "\n",
    "plt.rc(\"font\", family=\"sans\", size=\"15\")"
   ]
  },
  {
   "cell_type": "code",
   "execution_count": 8,
   "id": "native-breath",
   "metadata": {},
   "outputs": [],
   "source": [
    "df = CSV.read(\"SteadyStates/data/valid_ss.csv\", DataFrame);"
   ]
  },
  {
   "cell_type": "code",
   "execution_count": 9,
   "id": "manual-upper",
   "metadata": {},
   "outputs": [
    {
     "data": {
      "text/plain": [
       "get_rn_name (generic function with 1 method)"
      ]
     },
     "execution_count": 9,
     "metadata": {},
     "output_type": "execute_result"
    }
   ],
   "source": [
    "function get_rn_name(rn::ReactionSystem, df, u_, p_; i= 1, input_var_name = :s)\n",
    "    u = deepcopy(u_)\n",
    "    p1 = deepcopy(p_)\n",
    "    for (j,var) in enumerate( string.(species(rn)))\n",
    "        var_name = var[1:end-3] # remove '(t)' \n",
    "        u[j] = df[i, var_name]\n",
    "    end\n",
    "        \n",
    "    p1[1] = df[i,input_var_name]\n",
    "    return u, p1 \n",
    "end"
   ]
  },
  {
   "cell_type": "markdown",
   "id": "undefined-hebrew",
   "metadata": {},
   "source": [
    "## Define Problem \n",
    "\n",
    "|Input|Output|\n",
    "|---|---|\n",
    "|$s$|$Total_{Rtg13_{n}}$|"
   ]
  },
  {
   "cell_type": "code",
   "execution_count": 10,
   "id": "arctic-quick",
   "metadata": {},
   "outputs": [
    {
     "data": {
      "text/plain": [
       "409.50361198830126"
      ]
     },
     "execution_count": 10,
     "metadata": {},
     "output_type": "execute_result"
    }
   ],
   "source": [
    "#Objective function\n",
    "function output(us, inds)\n",
    "    return [ sum(u[inds]) for u in us]\n",
    "end\n",
    "\n",
    "\n",
    "rtg13_n = [11,12,15,16]\n",
    "\n",
    "# get total concentration of rtg3 \n",
    "rn = RetroSignalModel.rtgM4.NoInputModel\n",
    "u_ = collect(RetroSignalModel.rtgM4.param_NoInputModel().u)\n",
    "p_ = collect(RetroSignalModel.rtgM4.param_NoInputModel().p)\n",
    "\n",
    "pr_is = RetroSignalModel.get_protein_lookup(rn)\n",
    "rtg3_total = sum(u_[pr_is[:Rtg3]])"
   ]
  },
  {
   "cell_type": "code",
   "execution_count": 11,
   "id": "stable-outline",
   "metadata": {},
   "outputs": [
    {
     "data": {
      "text/plain": [
       "plotcurve! (generic function with 1 method)"
      ]
     },
     "execution_count": 11,
     "metadata": {},
     "output_type": "execute_result"
    }
   ],
   "source": [
    "# Plotting function \n",
    "function save(FIG , fn)\n",
    "    FIG.savefig(fn, transparent=true, bbox_inches = \"tight\" )\n",
    "end\n",
    "\n",
    "function plotcurve!(ax, arr, scale)\n",
    "    ax.plot(range(0,1,length=size(heatmap)[1]),arr/scale, \"r\", linestyle=\"--\", label=\"Steady State (ODE)\")\n",
    "end"
   ]
  },
  {
   "cell_type": "markdown",
   "id": "surprising-still",
   "metadata": {},
   "source": [
    "## Callback function for maintaining of Chemical Langevin Function \n",
    "\n",
    "Use callback technique to flip negative value to positive when the concentration is too small."
   ]
  },
  {
   "cell_type": "code",
   "execution_count": 12,
   "id": "straight-livestock",
   "metadata": {},
   "outputs": [
    {
     "data": {
      "text/plain": [
       "DiscreteCallback{typeof(condition), typeof(affect!), typeof(DiffEqBase.INITIALIZE_DEFAULT), typeof(DiffEqBase.FINALIZE_DEFAULT)}(condition, affect!, DiffEqBase.INITIALIZE_DEFAULT, DiffEqBase.FINALIZE_DEFAULT, Bool[1, 1])"
      ]
     },
     "execution_count": 12,
     "metadata": {},
     "output_type": "execute_result"
    }
   ],
   "source": [
    "function condition(u,p, integrator) \n",
    "   any(x -> x < 0, u)\n",
    "end \n",
    "\n",
    "\n",
    "function affect!(integrator)\n",
    "    neg_is = findall(x-> x<0., integrator.u)\n",
    "    for i in neg_is \n",
    "        integrator.u[i] = -integrator.u[i]\n",
    "    end\n",
    "end\n",
    "\n",
    "\n",
    "cb = DiscreteCallback(condition,affect!)"
   ]
  },
  {
   "cell_type": "markdown",
   "id": "unlike-category",
   "metadata": {},
   "source": [
    "## Set up noise and input domain"
   ]
  },
  {
   "cell_type": "code",
   "execution_count": 33,
   "id": "tired-gateway",
   "metadata": {},
   "outputs": [
    {
     "data": {
      "text/plain": [
       "\"RobustAnalysis/result/SDE_1em5_t1000.jld\""
      ]
     },
     "execution_count": 33,
     "metadata": {},
     "output_type": "execute_result"
    }
   ],
   "source": [
    "## Get HeatMap\n",
    "noise = 0.00001 # 1e-5\n",
    "tspan = (0.,100.)\n",
    "out = []\n",
    "IN  = []\n",
    "s = 0.:0.001:1.\n",
    "\n",
    "savename = \"RobustAnalysis/result/SDE_1em$(-1*Int(log10(noise)))_t1000.jld\""
   ]
  },
  {
   "cell_type": "markdown",
   "id": "accessible-medicine",
   "metadata": {},
   "source": [
    "## Solving SDE \n",
    "\n",
    "Derive the kernel density functions in the screen of input"
   ]
  },
  {
   "cell_type": "code",
   "execution_count": 14,
   "id": "acting-third",
   "metadata": {},
   "outputs": [
    {
     "data": {
      "text/plain": [
       "solve_ss (generic function with 1 method)"
      ]
     },
     "execution_count": 14,
     "metadata": {},
     "output_type": "execute_result"
    }
   ],
   "source": [
    "# @time 15 minutes (single core)\n",
    "function solve_ss(rn,u,p,s; solver=DynamicSS(AutoTsit5(Rosenbrock23())))    \n",
    "    solss = let # Steady State Solution\n",
    "        function prob_func(prob,i,repeat)\n",
    "            remake(prob;p= [s[i], p[2:end]...])\n",
    "        end\n",
    "\n",
    "        function output_func(sol,i)\n",
    "           return (sol.u, false) \n",
    "        end\n",
    "\n",
    "        prob = SteadyStateProblem(rn, u, p)\n",
    "        ensemble_prob = EnsembleProblem(prob, prob_func=prob_func, output_func = output_func)\n",
    "\n",
    "        solss = solve(ensemble_prob, solver, EnsembleThreads(); trajectories=length(s))\n",
    "    end;\n",
    "end"
   ]
  },
  {
   "cell_type": "code",
   "execution_count": 15,
   "id": "looking-trouble",
   "metadata": {},
   "outputs": [
    {
     "name": "stdout",
     "output_type": "stream",
     "text": [
      "\"Time usage: $(solss.elapsedTime) seconds\" = \"Time usage: 38.798847891 seconds\"\n"
     ]
    },
    {
     "data": {
      "text/plain": [
       "\"Time usage: 38.798847891 seconds\""
      ]
     },
     "execution_count": 15,
     "metadata": {},
     "output_type": "execute_result"
    }
   ],
   "source": [
    "solss = solve_ss(rn, u_, p_, s)\n",
    "\n",
    "@show \"Time usage: $(solss.elapsedTime) seconds\""
   ]
  },
  {
   "cell_type": "code",
   "execution_count": null,
   "id": "white-mercury",
   "metadata": {},
   "outputs": [],
   "source": [
    "u_sdes = zeros(length(s), length(u_))\n",
    "\n",
    "kdes = let # Kernel Density\n",
    "    function prob_func(prob, i, repeat)\n",
    "        remake(prob; u0=solss[i], p= [s[i], p_n[2:end]...])\n",
    "    end\n",
    "    \n",
    "    function output_func(sol,i)\n",
    "        ot = output(sol.u, rtg13_n)\n",
    "        prob_density = kde(convert.(Float64, ot))\n",
    "        len = length(sol.u)\n",
    "        \n",
    "        is_below = false\n",
    "        for j in eachindex(sol.u) \n",
    "            if (output([sol.u[j]], rtg13_n)[1] < 180.) & (output([sol.u[j]], rtg13_n)[1] > 120.)\n",
    "                u_sdes[i,:] = sol.u[j]\n",
    "                is_below = true\n",
    "                break\n",
    "            end\n",
    "        end \n",
    "        \n",
    "        is_below ? nothing : u_sdes[i,:] = sol.u[end]\n",
    "        \n",
    "        return (prob_density, false)\n",
    "    end\n",
    "    \n",
    "    p_n = vcat(p_, noise) # add noise to parameter\n",
    "    \n",
    "    prob = SDEProblem(rn, u_, tspan, p_n, noise_scaling= (@variables η1)[1])\n",
    "    ensemble_prob = EnsembleProblem(prob, prob_func=prob_func, output_func = output_func)\n",
    "    kdes = solve(ensemble_prob, LambaEM(), EnsembleThreads(); callback=cb, trajectories=length(s))\n",
    "end;\n",
    "\n",
    "@show \"Time usage: $(kdes.elapsedTime) seconds\"\n",
    "\n",
    "# Save File\n",
    "j.save(savename,  \"kdes\", kdes, \"solss\", solss)"
   ]
  },
  {
   "cell_type": "code",
   "execution_count": 22,
   "id": "indoor-offense",
   "metadata": {},
   "outputs": [
    {
     "name": "stderr",
     "output_type": "stream",
     "text": [
      "┌ Warning: Interrupted. Larger maxiters is needed.\n",
      "└ @ SciMLBase /home/ubuntu/.julia/packages/SciMLBase/eghDQ/src/integrator_interface.jl:328\n"
     ]
    }
   ],
   "source": [
    "# get low steady state\n",
    "p_n = vcat(p_, noise)\n",
    "prob = SDEProblem(rn, u_, tspan, p_n,noise_scaling= (@variables η1)[1])\n",
    "sol_low = solve(prob, LambaEM(); callback=cb);"
   ]
  },
  {
   "cell_type": "markdown",
   "id": "satisfied-sudan",
   "metadata": {},
   "source": [
    "## Generate Heatmap\n",
    "Get patch probability by integral the patch of the heatmap matrix"
   ]
  },
  {
   "cell_type": "markdown",
   "id": "intense-implementation",
   "metadata": {},
   "source": [
    "## Structure of heatmap\n",
    "\n",
    "||1|2|3|\n",
    "|---|---|---|---|\n",
    "|1|1|4|7|\n",
    "|2|2|5|8|\n",
    "|3|3|6|9|\n"
   ]
  },
  {
   "cell_type": "code",
   "execution_count": 7,
   "id": "ordinary-filing",
   "metadata": {},
   "outputs": [
    {
     "data": {
      "text/plain": [
       "EnsembleSolution Solution of length 1001 with uType:\n",
       "Vector{Float64}"
      ]
     },
     "execution_count": 7,
     "metadata": {},
     "output_type": "execute_result"
    }
   ],
   "source": [
    "SDE = j.load(savename)\n",
    "kdes = SDE[\"kdes\"]\n",
    "solss = SDE[\"solss\"]"
   ]
  },
  {
   "cell_type": "code",
   "execution_count": 8,
   "id": "amino-baker",
   "metadata": {},
   "outputs": [
    {
     "name": "stdout",
     "output_type": "stream",
     "text": [
      "4.0%┣█▎                             ┫ 40348/1002001 [05:55<02:20:59, 113.7 it/s]"
     ]
    },
    {
     "name": "stderr",
     "output_type": "stream",
     "text": [
      "Excessive output truncated after 524293 bytes."
     ]
    },
    {
     "name": "stdout",
     "output_type": "stream",
     "text": [
      "4.0%┣█▎                             "
     ]
    }
   ],
   "source": [
    "heatmap = zeros(length(s), length(s))\n",
    "\n",
    "ys = range(0, rtg3_total, length=length(s)+1)\n",
    "\n",
    "map(\n",
    "    I -> begin \n",
    "        row_n, col_n = size(heatmap)\n",
    "        \n",
    "        i = (I% col_n == 0) ? I÷ col_n : I÷col_n + 1 # X axis (columns)\n",
    "        j = (I% col_n == 0) ? col_n : I % col_n   # Y axis (rows)\n",
    "\n",
    "        heatmap[row_n - j + 1, i] = quadgk(X -> pdf(kdes[i],X), ys[j], ys[j+1], rtol=1e-5)[1]\n",
    "        \n",
    "    end,\n",
    "    (I for I in ProgressBar(1: length(heatmap)) )\n",
    ");"
   ]
  },
  {
   "cell_type": "markdown",
   "id": "digital-ministry",
   "metadata": {},
   "source": [
    "## Save Data "
   ]
  },
  {
   "cell_type": "code",
   "execution_count": 9,
   "id": "facial-organization",
   "metadata": {},
   "outputs": [],
   "source": [
    "# Save File\n",
    "j.save(\"RobustAnalysis/result/heatmap_1em$(-1*Int(log10(noise))).jld\", \"heatmap\", heatmap)"
   ]
  },
  {
   "cell_type": "markdown",
   "id": "accomplished-webster",
   "metadata": {},
   "source": [
    "## Plotting"
   ]
  },
  {
   "cell_type": "markdown",
   "id": "unable-ordinance",
   "metadata": {},
   "source": [
    "### Heatmap"
   ]
  },
  {
   "cell_type": "code",
   "execution_count": 276,
   "id": "dried-geography",
   "metadata": {},
   "outputs": [
    {
     "data": {
      "text/plain": [
       "EnsembleSolution Solution of length 1001 with uType:\n",
       "Vector{Float64}"
      ]
     },
     "execution_count": 276,
     "metadata": {},
     "output_type": "execute_result"
    }
   ],
   "source": [
    "u2, p2 = get_rn_name(rn, df, u_, p_;i=100)\n",
    "solss2 = solve_ss(rn, u2, p2, s)"
   ]
  },
  {
   "cell_type": "code",
   "execution_count": 23,
   "id": "efficient-thing",
   "metadata": {},
   "outputs": [
    {
     "data": {
      "text/plain": [
       "EnsembleSolution Solution of length 1001 with uType:\n",
       "Vector{Float64}"
      ]
     },
     "execution_count": 23,
     "metadata": {},
     "output_type": "execute_result"
    }
   ],
   "source": [
    "#i = 8\n",
    "#u2, p2 = get_rn_name(rn, df, u_, p_;i=i)\n",
    "#u_2 = deepcopy(u_)\n",
    "#u_2[15] = 30.\n",
    "\n",
    "solss2 = solve_ss(rn, sol_low.u[9000], p_, s)"
   ]
  },
  {
   "cell_type": "code",
   "execution_count": 30,
   "id": "consistent-mustang",
   "metadata": {},
   "outputs": [
    {
     "ename": "LoadError",
     "evalue": "UndefVarError: u_sdes not defined",
     "output_type": "error",
     "traceback": [
      "UndefVarError: u_sdes not defined",
      "",
      "Stacktrace:",
      " [1] top-level scope",
      "   @ In[30]:10",
      " [2] eval",
      "   @ ./boot.jl:360 [inlined]",
      " [3] include_string(mapexpr::typeof(REPL.softscope), mod::Module, code::String, filename::String)",
      "   @ Base ./loading.jl:1090"
     ]
    }
   ],
   "source": [
    "solss_2 = let # Steady State Solution\n",
    "        function prob_func(prob,i,repeat)\n",
    "            remake(prob;u0=u_sdes[i,:], p= [s[i], p_[2:end]...])\n",
    "        end\n",
    "\n",
    "        function output_func(sol,i)\n",
    "           return (sol.u, false) \n",
    "        end\n",
    "\n",
    "        prob = SteadyStateProblem(rn, u_sdes[1,:], p_)\n",
    "        ensemble_prob = EnsembleProblem(prob, prob_func=prob_func, output_func = output_func)\n",
    "\n",
    "        solss = solve(ensemble_prob, DynamicSS(AutoTsit5(Rosenbrock23())), EnsembleThreads(); trajectories=length(s))\n",
    "end"
   ]
  },
  {
   "cell_type": "code",
   "execution_count": 19,
   "id": "suspended-rings",
   "metadata": {},
   "outputs": [
    {
     "ename": "LoadError",
     "evalue": "UndefVarError: solss_2 not defined",
     "output_type": "error",
     "traceback": [
      "UndefVarError: solss_2 not defined",
      "",
      "Stacktrace:",
      " [1] top-level scope",
      "   @ In[19]:1",
      " [2] eval",
      "   @ ./boot.jl:360 [inlined]",
      " [3] include_string(mapexpr::typeof(REPL.softscope), mod::Module, code::String, filename::String)",
      "   @ Base ./loading.jl:1090"
     ]
    }
   ],
   "source": [
    "output(solss_2, rtg13_n)"
   ]
  },
  {
   "cell_type": "code",
   "execution_count": 24,
   "id": "fewer-father",
   "metadata": {},
   "outputs": [],
   "source": [
    "heatmap = j.load(\"RobustAnalysis/result/heatmap_1em$(-1*Int(log10(noise))).jld\")[\"heatmap\"];"
   ]
  },
  {
   "cell_type": "code",
   "execution_count": 58,
   "id": "heated-wichita",
   "metadata": {},
   "outputs": [
    {
     "data": {
      "image/png": "[encoded data removed]",
      "text/plain": [
       "PyPlot.Figure(PyObject <Figure size 640x480 with 2 Axes>)"
      ]
     },
     "metadata": {},
     "output_type": "display_data"
    }
   ],
   "source": [
    "# output\n",
    "\n",
    "out_ = output(solss.u, rtg13_n)\n",
    "\n",
    "fig, ax = plt.subplots()\n",
    "ax.set_xlabel(\"Mitochondrial Damage (AU)\", fontweight=\"bold\")\n",
    "ax.set_ylabel(\"Nucleus Rtg1/3p (nM)\", fontweight=\"bold\")\n",
    "\n",
    "\n",
    "\n",
    "\n",
    "im = ax.imshow(heatmap, cmap=\"binary\",extent=[0,1,0,1] )\n",
    "\n",
    "cbar = plt.colorbar(im, orientation=\"vertical\")\n",
    "cbar.ax.set_ylabel(\"Probability\", fontweight=\"bold\")\n",
    "\n",
    "plotcurve!(ax, output(solss.u, rtg13_n), round(rtg3_total))\n",
    "#plotcurve!(ax, output(solss2.u, rtg13_n),round(rtg3_total))\n",
    "\n",
    "\n",
    "\n",
    "\n",
    "ax.yaxis.set_ticks([0, 1])\n",
    "ax.xaxis.set_ticks([0, 0.5,1])\n",
    "ax.set_yticklabels([0, round(rtg3_total)])\n",
    "\n",
    "\n",
    "\n",
    "\n",
    "ax.legend(fontsize=7)\n",
    "save(fig,\"RobustAnalysis/result/Heatmap/rtg13n_1em$(-1*Int(log10(noise)))_with_steady_states.svg\")\n",
    "plt.display_figs()"
   ]
  },
  {
   "cell_type": "code",
   "execution_count": 62,
   "id": "noble-mambo",
   "metadata": {},
   "outputs": [
    {
     "data": {
      "image/png": "[encoded data removed]",
      "text/plain": [
       "PyPlot.Figure(PyObject <Figure size 640x480 with 2 Axes>)"
      ]
     },
     "metadata": {},
     "output_type": "display_data"
    }
   ],
   "source": [
    "# output\n",
    "\n",
    "out_ = output(solss.u, rtg13_n)\n",
    "\n",
    "fig, ax = plt.subplots()\n",
    "\n",
    "\n",
    "\n",
    "\n",
    "im = ax.imshow(heatmap, cmap=\"binary\",extent=[0,1,0,1] )\n",
    "\n",
    "cbar = plt.colorbar(im, orientation=\"vertical\")\n",
    "cbar.set_ticks([])\n",
    "plotcurve!(ax, output(solss.u, rtg13_n), round(rtg3_total))\n",
    "\n",
    "\n",
    "ax.yaxis.set_ticks([])\n",
    "ax.xaxis.set_ticks([])\n",
    "\n",
    "\n",
    "\n",
    "\n",
    "plt.display_figs()\n",
    "\n",
    "fig.savefig(\"RobustAnalysis/result/GraphicalAbstract/rtg13n_1em$(-1*Int(log10(noise)))_with_steady_states.png\", transparent=true,box_inches=\"tight\", dpi=300)"
   ]
  },
  {
   "cell_type": "raw",
   "id": "figured-render",
   "metadata": {},
   "source": [
    "# 3D surf plot\n",
    "\n",
    "plt.surf(-log.(0.001 .+heatmap))\n",
    "plt.ylabel(\"Mitochondrial Damage (AU)\")\n",
    "plt.xlabel(\"Concentration of Rtg1/3\")\n",
    "plt.zlabel(\"Probability\")\n",
    "plt.zticks([0,1])\n",
    "plt.gca()[:view_init](20,90)\n",
    "plt.draw()\n",
    "plt.savefig(\"RobustAnalysis/result/Heatmap_surf3D.pdf\", transparent=true, bbox_inches = \"tight\")"
   ]
  },
  {
   "cell_type": "markdown",
   "id": "advance-bottom",
   "metadata": {},
   "source": [
    "### Plotting the probability"
   ]
  },
  {
   "cell_type": "markdown",
   "id": "temporal-republic",
   "metadata": {},
   "source": [
    "#### Color scale"
   ]
  },
  {
   "cell_type": "code",
   "execution_count": 2,
   "id": "indonesian-times",
   "metadata": {},
   "outputs": [
    {
     "ename": "LoadError",
     "evalue": "UndefVarError: rtg3_total not defined",
     "output_type": "error",
     "traceback": [
      "UndefVarError: rtg3_total not defined",
      "",
      "Stacktrace:",
      " [1] top-level scope",
      "   @ In[2]:1",
      " [2] eval",
      "   @ ./boot.jl:360 [inlined]",
      " [3] include_string(mapexpr::typeof(REPL.softscope), mod::Module, code::String, filename::String)",
      "   @ Base ./loading.jl:1090"
     ]
    }
   ],
   "source": [
    "y_range = 0:1:rtg3_total\n",
    "\n",
    "out = kdes.u\n",
    "len = length(out)\n",
    "\n",
    "figp, axp = plt.subplots()\n",
    "\n",
    "axp.plot(y_range, [pdf(out[1],i) for i in y_range], label=\"s=$(s[1])\", linestyle=\"-\", color=\"green\")\n",
    "axp.plot(y_range, [pdf(out[len÷3],i) for i in y_range], label=\"s=$(s[len÷3])\", linestyle=\"--\", color=\"purple\")\n",
    "axp.plot(y_range, [pdf(out[len÷2],i) for i in y_range], label=\"s=$(s[len÷2])\", linestyle=\"--\", color=\"purple\")\n",
    "axp.plot(y_range, [pdf(out[end],i) for i in y_range], label=\"s=$(s[end])\", linestyle=\"dashdot\", color=\"red\")\n",
    "axp.set_xlabel(\"Nucleus Rtg1/3p (nM)\", fontweight=\"bold\")\n",
    "axp.set_ylabel(\"Probability\", fontweight=\"bold\")\n",
    "axp.set_yticks([Int(0), 0.014])\n",
    "axp.set_xticks([Int(0), 400])\n",
    "axp.legend(title=\"Mito-Damage\", loc=1, fontsize=\"small\")\n",
    "save(figp, \"RobustAnalysis/result/PDF_function_Rtg13n_1em$(-1*Int(log10(noise))).svg\")\n",
    "save(figp, \"RobustAnalysis/result/PDF_function_Rtg13n_1em$(-1*Int(log10(noise))).pdf\")\n",
    "plt.display_figs()"
   ]
  },
  {
   "cell_type": "markdown",
   "id": "representative-pontiac",
   "metadata": {},
   "source": [
    "#### Gray Scale"
   ]
  },
  {
   "cell_type": "code",
   "execution_count": null,
   "id": "legitimate-leeds",
   "metadata": {},
   "outputs": [],
   "source": [
    "y_range = 0:1:rtg3_total\n",
    "\n",
    "out = kdes.u\n",
    "len = length(out)\n",
    "\n",
    "T = 0:0.01:1\n",
    "grays = range(0, 0.8, length=length(T))\n",
    "\n",
    "figp, axp = plt.subplots()\n",
    "\n",
    "# Plot gradient curves\n",
    "Folds.map(j-> \n",
    "    begin\n",
    "    i_s = T[j] == 1 ? length(out) : trunc(Int,T[j] * length(out) ) + 1\n",
    "    axp.plot(y_range, [pdf(out[i_s],i) for i in y_range], label=\"s=$(s[1])\", linestyle=\"-\", color=\"$(grays[j])\" ,lw=2, alpha=0.6);\n",
    "    end,\n",
    "    (j for j in eachindex(T)));\n",
    "\n",
    "\n",
    "\n",
    "axp.set_xlabel(\"Nucleus Rtg1/3p (nM)\", fontweight=\"bold\")\n",
    "axp.set_ylabel(\"Probability\", fontweight=\"bold\")\n",
    "axp.set_yticks([Int(0), 0.014])\n",
    "axp.set_xticks([Int(0), 400])\n",
    "\n",
    "save(figp, \"RobustAnalysis/result/PDE_function_Rtg13n_$(length(len))_lines_1em$(-1*Int(log10(noise))).svg\")\n",
    "save(figp, \"RobustAnalysis/result/PDE_function_Rtg13n_$(length(len))_lines_1em$(-1*Int(log10(noise))).pdf\")"
   ]
  },
  {
   "cell_type": "code",
   "execution_count": null,
   "id": "composed-voluntary",
   "metadata": {},
   "outputs": [],
   "source": []
  }
 ],
 "metadata": {
  "kernelspec": {
   "display_name": "Julia 1.6.0-rc1",
   "language": "julia",
   "name": "julia-1.6"
  },
  "language_info": {
   "file_extension": ".jl",
   "mimetype": "application/julia",
   "name": "julia",
   "version": "1.6.0"
  }
 },
 "nbformat": 4,
 "nbformat_minor": 5
}
