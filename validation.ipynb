{
 "cells": [
  {
   "cell_type": "code",
   "execution_count": 27,
   "metadata": {},
   "outputs": [],
   "source": [
    "using Pkg\n",
    "Pkg.activate(\"validation\")\n",
    "Pkg.instantiate()"
   ]
  },
  {
   "cell_type": "code",
   "execution_count": 67,
   "metadata": {},
   "outputs": [],
   "source": [
    "using CairoMakie\n",
    "using FindSteadyStates\n",
    "import RetroSignalModel as rs"
   ]
  },
  {
   "cell_type": "code",
   "execution_count": 36,
   "metadata": {},
   "outputs": [],
   "source": [
    "rtgM4 = rs.rtgM4(1);\n",
    "pr_table = rs.get_protein_lookup(model);"
   ]
  },
  {
   "cell_type": "markdown",
   "metadata": {},
   "source": [
    "## Initiate protein concentrations\n",
    "\n",
    "- Get expression levels: `getExpLevels` uses data from [GSE102475](https://github.com/NTUMitoLab/RetroSignalModel.jl?organization=NTUMitoLab&organization=NTUMitoLab#differential-gene-expression)\n",
    "- Sampling agent concentrations: The [`init_u`](https://github.com/stevengogogo/RetroSignalModel.jl/blob/73ffb3713b8e5481a85c3ce9590c9c53e8440faf/src/models/utils.jl#L63-L85) can setup protein concentrations with given total expression levels."
   ]
  },
  {
   "cell_type": "code",
   "execution_count": 44,
   "metadata": {},
   "outputs": [
    {
     "data": {
      "text/plain": [
       "(Bmh = 0.0001, Rtg1 = 145.92035635681052, Rtg2 = 651.6543766184083, Rtg3 = 409.50361198825453, Mks = 267.49672022463335)"
      ]
     },
     "execution_count": 44,
     "metadata": {},
     "output_type": "execute_result"
    }
   ],
   "source": [
    "# Set expression level\n",
    "exp = rs.getExpLevels()\n",
    "exp_dBmh = (exp..., Bmh=1e-4)"
   ]
  },
  {
   "cell_type": "code",
   "execution_count": 46,
   "metadata": {},
   "outputs": [],
   "source": [
    "# Get agent concentrations\n",
    "u_low = rs.init_u(rtgM4.model, pr_table; expLevels=exp_dBmh, init_s=0.2);"
   ]
  },
  {
   "cell_type": "markdown",
   "metadata": {},
   "source": []
  },
  {
   "cell_type": "code",
   "execution_count": 51,
   "metadata": {},
   "outputs": [
    {
     "data": {
      "text/plain": [
       "u: 17-element LabelledArrays.LArray{Float64, 1, Vector{Float64}, (:s, :Rtg2_ina_c, :Rtg2_act_c, :Mks, :Rtg2Mks_c, :Bmh, :BmhMks, :Rtg13_a_c, :Rtg13_i_c, :Rtg3_i_c, :Rtg3_a_c, :Rtg3_a_n, :Rtg3_i_n, :Rtg1_c, :Rtg1_n, :Rtg13_a_n, :Rtg13_i_n)}:\n",
       "          :s => 0.2\n",
       " :Rtg2_ina_c => 384.61864901665916\n",
       " :Rtg2_act_c => 0.014881032712167588\n",
       "        :Mks => 0.4758725061062714\n",
       "  :Rtg2Mks_c => 267.02084656903645\n",
       "        :Bmh => 9.88505097481813e-5\n",
       "     :BmhMks => 1.149490251827384e-6\n",
       "  :Rtg13_a_c => 32.50110820334613\n",
       "             ⋮\n",
       "   :Rtg3_a_c => 27.118640619468625\n",
       "   :Rtg3_a_n => 18.095691855204844\n",
       "   :Rtg3_i_n => 218.51717726000402\n",
       "     :Rtg1_c => 1.13287095764913\n",
       "     :Rtg1_n => 0.000606805807192034\n",
       "  :Rtg13_a_n => 8.496016497506346\n",
       "  :Rtg13_i_n => 102.59489568292318"
      ]
     },
     "execution_count": 51,
     "metadata": {},
     "output_type": "execute_result"
    }
   ],
   "source": [
    "# Get solution\n",
    "sol = rs.getSteadySol(rtgM4, u_low)"
   ]
  },
  {
   "cell_type": "code",
   "execution_count": 58,
   "metadata": {},
   "outputs": [
    {
     "name": "stdout",
     "output_type": "stream",
     "text": [
      "r1.Conc_Cyt = 34.828837370566916\n"
     ]
    },
    {
     "data": {
      "text/plain": [
       "34.828837370566916"
      ]
     },
     "execution_count": 58,
     "metadata": {},
     "output_type": "execute_result"
    }
   ],
   "source": [
    "r1 = rs.getOutput(sol, \"Rtg1\", pr_table)\n",
    "@show r1.Conc_Cyt"
   ]
  },
  {
   "cell_type": "code",
   "execution_count": 70,
   "metadata": {},
   "outputs": [
    {
     "data": {
      "text/plain": [
       "measure_trans (generic function with 1 method)"
      ]
     },
     "execution_count": 70,
     "metadata": {},
     "output_type": "execute_result"
    }
   ],
   "source": [
    "function measure_trans(m, p, dmg_sig, exp, gfp)\n",
    "    pr_table = rs.get_protein_lookup(model)\n",
    "    u = rs.init_u(rtgM4.model, pr_table; expLevels= exp, init_s=dmg_sig);\n",
    "    prob = DEsteady(func=m.model, u0=u, p=p, method=rs.SSMETHOD)\n",
    "    sol = solve(prob)\n",
    "    return rs.getOutput(sol, gfp, pr_table)\n",
    "end"
   ]
  },
  {
   "cell_type": "code",
   "execution_count": 71,
   "metadata": {},
   "outputs": [
    {
     "data": {
      "text/plain": [
       "RetroSignalModel.RTGoutput{Float64}(true, 131.93449461426624, 277.56911737399895, 1.5)"
      ]
     },
     "execution_count": 71,
     "metadata": {},
     "output_type": "execute_result"
    }
   ],
   "source": [
    "measure_trans(rtgM4, rtgM4.p, 0.4, exp, \"Rtg3\")"
   ]
  },
  {
   "cell_type": "code",
   "execution_count": 72,
   "metadata": {},
   "outputs": [
    {
     "data": {
      "text/plain": [
       "24-element LabelledArrays.LArray{Real, 1, Vector{Real}, (:n_s, :ksV, :ksD, :k2I, :k2M, :kn2M, :kBM, :knBM, :k13I, :k13IV, :k13ID, :k3A_c, :k3I_c, :k3I_n, :k13_c, :kn13_c, :k13_n, :kn13_n, :k1in, :k1out, :k3inA, :k3outA, :k3inI, :k3outI)}:\n",
       "    :n_s => 7\n",
       "    :ksV => 11.67245386\n",
       "    :ksD => 0.96520606\n",
       "    :k2I => 4.947912368\n",
       "    :k2M => 1604.150283\n",
       "   :kn2M => 0.042542555\n",
       "    :kBM => 0.058955571\n",
       "   :knBM => 2.412620893\n",
       "         ⋮\n",
       " :kn13_n => 0.595848762\n",
       "   :k1in => 3.196651589\n",
       "  :k1out => 5967.990312\n",
       "  :k3inA => 1.024908423\n",
       " :k3outA => 0.048990375\n",
       "  :k3inI => 0.037957422\n",
       " :k3outI => 0.123308493"
      ]
     },
     "execution_count": 72,
     "metadata": {},
     "output_type": "execute_result"
    }
   ],
   "source": [
    "rtgM4.p"
   ]
  },
  {
   "cell_type": "code",
   "execution_count": null,
   "metadata": {},
   "outputs": [],
   "source": []
  }
 ],
 "metadata": {
  "kernelspec": {
   "display_name": "Julia 1.6.1",
   "language": "julia",
   "name": "julia-1.6"
  },
  "language_info": {
   "file_extension": ".jl",
   "mimetype": "application/julia",
   "name": "julia",
   "version": "1.6.1"
  },
  "orig_nbformat": 4
 },
 "nbformat": 4,
 "nbformat_minor": 2
}
